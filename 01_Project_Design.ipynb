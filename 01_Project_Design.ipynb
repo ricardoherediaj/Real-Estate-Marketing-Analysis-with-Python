{
 "cells": [
  {
   "cell_type": "markdown",
   "id": "65619eaf",
   "metadata": {},
   "source": [
    "# PROJECT DESIGN"
   ]
  },
  {
   "cell_type": "markdown",
   "id": "8e0ec15b",
   "metadata": {},
   "source": [
    "This case simulates that we are a real estate company that makes investments in large cities, buying properties to later rent them as tourist apartments.\n",
    "\n",
    "The management has made the decision to invest in Madrid, and has commissioned us to analyze the data that the leader in the AirBnb sector makes public to try to find the types of properties that have the greatest commercial potential for tourist rentals.\n",
    "\n",
    "As the main deliverable, they expect the type (or types) of properties that the valuation team must look for existing opportunities in the city and the main neighborhoods or geographical areas on which to focus.\n",
    "\n",
    "To meet the objective we will apply the Discovery methodology and BA techniques."
   ]
  },
  {
   "cell_type": "markdown",
   "id": "f1a9a140",
   "metadata": {},
   "source": [
    "## OBJECTIVE"
   ]
  },
  {
   "cell_type": "markdown",
   "id": "2f54133f",
   "metadata": {},
   "source": [
    "Locate the profile (or profiles) of properties that maximize commercial potential in the tourist rental market and the main areas where to look for them."
   ]
  },
  {
   "cell_type": "markdown",
   "id": "8fb8aca2",
   "metadata": {},
   "source": [
    "## BUSINESS LEVERS"
   ]
  },
  {
   "cell_type": "markdown",
   "id": "d9380334",
   "metadata": {},
   "source": [
    "After speaking with the valuation team, they tell us that the levers that have the most impact on the profitability of this type of investment are:\n",
    "\n",
    "* **Rental price**: the more you can charge per night, the higher the profitability\n",
    "* **Occupancy**: in general, the more days a year a property can be rented, the greater its profitability\n",
    "* **Property price**: the cheaper the property can be acquired, the higher the profitability"
   ]
  },
  {
   "cell_type": "markdown",
   "id": "d321de30",
   "metadata": {},
   "source": [
    "## KPIs"
   ]
  },
  {
   "cell_type": "markdown",
   "id": "dc75cf61",
   "metadata": {},
   "source": [
    "In this example the KPIs are pretty straightforward:\n",
    "\n",
    "* We will measure occupancy as the number of days per year that the property can be rented\n",
    "* We will measure the rental price as the price per night in euros according to Airbnb\n",
    "* We will measure the price of a property as the multiplication between the number of square meters and the average price per m2 in your area, and we will apply a 25% discount on the official price due to the negotiation strength of our purchasing team."
   ]
  },
  {
   "cell_type": "markdown",
   "id": "28a6275a",
   "metadata": {},
   "source": [
    "## DATA SOURCE AND ENTITIES"
   ]
  },
  {
   "cell_type": "markdown",
   "id": "43bda11d",
   "metadata": {},
   "source": [
    "The relevant entities for our objective and from which we may have data are:\n",
    "\n",
    "* Real estate\n",
    "* Owners\n",
    "* Districts"
   ]
  },
  {
   "cell_type": "markdown",
   "id": "80de46d9",
   "metadata": {},
   "source": [
    "## SEED QUESTIONS"
   ]
  },
  {
   "cell_type": "markdown",
   "id": "d8fd1d3e",
   "metadata": {},
   "source": [
    "About the rental price:\n",
    "\n",
    "* What is the average price? And the price range? And by districts? And by neighborhoods?\n",
    "* What is the ranking of districts and neighborhoods by average rental price?\n",
    "* What factors (apart from location determine the rental price?\n",
    "* What is the relationship between the size of the property and the price for which it can be rented?\n",
    "* How does the competition (number of properties available per neighborhood) influence the rental price?\n",
    "* How do prices vary by rental type (entire flat, private room, shared room)?\n",
    "\n",
    "\n",
    "About the occupation:\n",
    "\n",
    "* What is the average occupancy? And by districts? And by neighborhoods?\n",
    "* How likely is each occupancy level in each district?\n",
    "* What is the ranking of districts and neighborhoods by occupation?\n",
    "* What factors (apart from location determine occupancy?\n",
    "* What is the relationship between the size of the property and its degree of occupancy?\n",
    "* How does competition (number of properties available per neighborhood) influence occupancy?\n",
    "\n",
    "About the purchase price:\n",
    "\n",
    "* What is the price ranking per m2 by district?\n",
    "* What is the property price ranking (m2 * average size) by district?\n",
    "* What is the relationship between the price of the property and the rental price by district?\n",
    "* What is the relationship between the price of the property and the occupation by district?"
   ]
  },
  {
   "cell_type": "code",
   "execution_count": null,
   "id": "ae22d823",
   "metadata": {},
   "outputs": [],
   "source": []
  }
 ],
 "metadata": {
  "kernelspec": {
   "display_name": "Python 3 (ipykernel)",
   "language": "python",
   "name": "python3"
  },
  "language_info": {
   "codemirror_mode": {
    "name": "ipython",
    "version": 3
   },
   "file_extension": ".py",
   "mimetype": "text/x-python",
   "name": "python",
   "nbconvert_exporter": "python",
   "pygments_lexer": "ipython3",
   "version": "3.10.8"
  },
  "toc": {
   "base_numbering": 1,
   "nav_menu": {},
   "number_sections": true,
   "sideBar": true,
   "skip_h1_title": false,
   "title_cell": "Table of Contents",
   "title_sidebar": "Contents",
   "toc_cell": false,
   "toc_position": {
    "height": "calc(100% - 180px)",
    "left": "10px",
    "top": "150px",
    "width": "288px"
   },
   "toc_section_display": true,
   "toc_window_display": true
  },
  "varInspector": {
   "cols": {
    "lenName": 16,
    "lenType": 16,
    "lenVar": 40
   },
   "kernels_config": {
    "python": {
     "delete_cmd_postfix": "",
     "delete_cmd_prefix": "del ",
     "library": "var_list.py",
     "varRefreshCmd": "print(var_dic_list())"
    },
    "r": {
     "delete_cmd_postfix": ") ",
     "delete_cmd_prefix": "rm(",
     "library": "var_list.r",
     "varRefreshCmd": "cat(var_dic_list()) "
    }
   },
   "types_to_exclude": [
    "module",
    "function",
    "builtin_function_or_method",
    "instance",
    "_Feature"
   ],
   "window_display": false
  }
 },
 "nbformat": 4,
 "nbformat_minor": 5
}
